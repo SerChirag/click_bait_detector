{
 "cells": [
  {
   "cell_type": "code",
   "execution_count": 17,
   "metadata": {},
   "outputs": [],
   "source": [
    "import pickle\n",
    "import nltk\n",
    "from nltk.stem.lancaster import LancasterStemmer\n",
    "stemmer = LancasterStemmer()\n",
    "f = open('my_classifier.pickle', 'rb')\n",
    "classifier = pickle.load(f)\n",
    "f.close()\n",
    "f = open('outfile', 'rb')\n",
    "word_features = pickle.load(f)\n",
    "f.close()"
   ]
  },
  {
   "cell_type": "code",
   "execution_count": 18,
   "metadata": {},
   "outputs": [],
   "source": [
    "def find_features(document):\n",
    "    words = {}\n",
    "    for w in nltk.word_tokenize(document):\n",
    "        stemmed_word = stemmer.stem(w.lower())\n",
    "        words[stemmed_word] = 1\n",
    "    \n",
    "    features = {}\n",
    "    for w in word_features:\n",
    "        features[w] = (w in words)\n",
    "\n",
    "    return features"
   ]
  },
  {
   "cell_type": "code",
   "execution_count": 19,
   "metadata": {},
   "outputs": [
    {
     "name": "stdout",
     "output_type": "stream",
     "text": [
      "Click-bait Probability : 0.978989646596\n",
      "Not Click-bait Probability : 0.0210103534045\n"
     ]
    }
   ],
   "source": [
    "predict_sentence = \"13 reasons why new Iphone is the best\"\n",
    "dist = classifier.prob_classify(find_features(predict_sentence))\n",
    "print \"Click-bait Probability :\", dist.prob(1) \n",
    "print \"Not Click-bait Probability :\", dist.prob(0)"
   ]
  },
  {
   "cell_type": "code",
   "execution_count": null,
   "metadata": {},
   "outputs": [],
   "source": []
  },
  {
   "cell_type": "code",
   "execution_count": null,
   "metadata": {},
   "outputs": [],
   "source": []
  }
 ],
 "metadata": {
  "kernelspec": {
   "display_name": "Python 2",
   "language": "python",
   "name": "python2"
  },
  "language_info": {
   "codemirror_mode": {
    "name": "ipython",
    "version": 2
   },
   "file_extension": ".py",
   "mimetype": "text/x-python",
   "name": "python",
   "nbconvert_exporter": "python",
   "pygments_lexer": "ipython2",
   "version": "2.7.12"
  }
 },
 "nbformat": 4,
 "nbformat_minor": 2
}
